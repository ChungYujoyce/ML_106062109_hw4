{
 "cells": [
  {
   "cell_type": "code",
   "execution_count": 53,
   "metadata": {},
   "outputs": [],
   "source": [
    "import random\n",
    "from math import exp\n",
    "import matplotlib.pyplot as plt\n",
    "# process data label as 0, 1, 2 for training\n",
    "def loadDataset(dataset): \n",
    "    newdata = []\n",
    "    for x in range(len(dataset)-1):\n",
    "        for i in range(0,len(dataset[x]),4):\n",
    "            if dataset[x][i] == \"I\": # encounter labels, change it\n",
    "                if dataset[x][-3:-1] == \"sa\": # Iris-setosa\n",
    "                    newdata.append(0)\n",
    "                elif dataset[x][-2:-1] == \"r\": # Iris-versicolor\n",
    "                    newdata.append(1)\n",
    "                elif dataset[x][-3:-1] == \"ca\": # Iris-virginica\n",
    "                    newdata.append(2) \n",
    "                break\n",
    "            else:\n",
    "                attribute = float(dataset[x][i:i+3])\n",
    "                newdata.append(attribute)\n",
    "        trainingSet.append(newdata)       \n",
    "        newdata = [] # clear the package\n",
    "    return trainingSet\n",
    "\n",
    "# find the range of data to do normalize\n",
    "def dataset_minmax(dataset): # zip a(1,2,3) , b(4,5,6) to [(1,4), (2,5), (3,6)] \n",
    "    minmax = list()\n",
    "    stats = [[min(column), max(column)] for column in zip(*dataset)] # unzip the file\n",
    "    return stats\n",
    "\n",
    "# rescale data to range 0~1\n",
    "def normalize_data(dataset, minmax):\n",
    "    for row in dataset:\n",
    "        for i in range(len(row)-1):\n",
    "            row[i] = (row[i] - minmax[i][0]) / (minmax[i][1] - minmax[i][0])\n",
    "\n",
    "# calculate neuron activation for an input\n",
    "def activate(weights, inputs):\n",
    "    activation = weights[-1]\n",
    "    for i in range(len(weights)-1):\n",
    "        activation += weights[i] * inputs[i]\n",
    "    return activation\n",
    "\n",
    "# transfer neuron activation \n",
    "def transfer(activation):\n",
    "    return 1.0 / (1.0 + exp(-activation))\n",
    "\n",
    "# calculate the derivative of an neuron output\n",
    "def transfer_derivative(output):\n",
    "    return output * (1.0 - output)\n",
    "\n",
    "#forward propagate input to a network output\n",
    "def forward_propagate(network, row):\n",
    "    inputs = row\n",
    "    for layer in network:\n",
    "        new_inputs = []\n",
    "        for neuron in layer:\n",
    "            activation = activate(neuron['weights'], inputs)\n",
    "            neuron['output'] = transfer(activation)\n",
    "            new_inputs.append(neuron['output'])\n",
    "        inputs = new_inputs # keep updating the neurons\n",
    "    return inputs\n",
    "\n",
    "# backpropagate error and sotre in neurons\n",
    "def backward_propagate_error(network, expected): \n",
    "    for i in reversed(range(len(network))):\n",
    "        layer = network[i]\n",
    "        errors = list()\n",
    "        if i != len(network)-1:\n",
    "            for j in range(len(layer)): # hidden\n",
    "                error = 0.0\n",
    "                for neuron in network[i+1]:\n",
    "                    error += (neuron['weights'][j] * neuron['delta'])\n",
    "                errors.append(error) \n",
    "        else:\n",
    "            for j in range(len(layer)): # output\n",
    "                neuron = layer[j]\n",
    "                errors.append(expected[j] - neuron['output'])\n",
    "        for j in range(len(layer)):\n",
    "            neuron = layer[j]\n",
    "            neuron['delta'] = errors[j] * transfer_derivative(neuron['output'])\n",
    "\n",
    "# update network weights with error\n",
    "def update_weights(network, row, learning_rate):\n",
    "    for i in range(len(network)):\n",
    "        inputs = row[:-1]\n",
    "        if i != 0:\n",
    "            inputs = [neuron['output'] for neuron in network[i-1]]\n",
    "        for neuron in network[i]:\n",
    "            for j in range(len(inputs)):\n",
    "                neuron['weights'][j] += learning_rate * neuron['delta'] * inputs[j]\n",
    "            neuron['weights'][-1] += learning_rate * neuron['delta']\n",
    "\n",
    "def train_network(network, train, learning_rate, n_epoch, n_outputs):\n",
    "    print(\"--------------- lrate=%.3f\" % learning_rate ,\"-----------------\")\n",
    "    prev_MSE = 0\n",
    "    MSE = 0\n",
    "    abs_fraction_of_change = 0\n",
    "    for epoch in range(n_epoch):\n",
    "        MSE = 0\n",
    "        for row in train:\n",
    "            outputs = forward_propagate(network, row)\n",
    "            expected = [0 for i in range(n_outputs)]\n",
    "            expected[row[-1]] = 1 # one hot encoding !!!\n",
    "            backward_propagate_error(network, expected)\n",
    "            update_weights(network, row, learning_rate)\n",
    "            update_outputs = forward_propagate(network, row) # update forward results\n",
    "            MSE += sum([(expected[i] - update_outputs[i])**2 for i in range(len(expected))])\n",
    "            #print(MSE)\n",
    "        MSE /= len(expected)\n",
    "        if epoch > 0:\n",
    "            abs_fraction_of_change = abs((MSE - prev_MSE) / prev_MSE )\n",
    "            if abs_fraction_of_change <= 10e-5:\n",
    "                print(\"Epoch need:%d\"%(epoch+1))\n",
    "                break\n",
    "        print('>epoch=%d, MSE=%.3f, abs fraction of change=%.6f' % (epoch, MSE, abs_fraction_of_change))\n",
    "        prev_MSE = MSE\n",
    "        #print(\"prev\",prev_MSE)\n",
    "    return (epoch+1)\n",
    "    \n",
    "    \n",
    "\n",
    "def init_network(n_inputs, n_hidden, n_outputs): \n",
    "# create n_hidden neurons and each neuron in the hidden layer has n_inputs + 1 weights\n",
    "    network = list()\n",
    "    hidden_layer1 = [{'weights': [(random.random()-0.5)/5.0 for i in range(n_inputs)]} for i in range(n_hidden)]\n",
    "    network.append(hidden_layer1) \n",
    "    hidden_layer2 = [{'weights': [(random.random()-0.5)/5.0 for i in range(n_inputs)]} for i in range(n_hidden)]\n",
    "    network.append(hidden_layer2)\n",
    "    output_layer = [{'weights': [(random.random()-0.5)/5.0 for i in range(n_hidden)]} for i in range(n_outputs)]\n",
    "    network.append(output_layer) \n",
    "    #for i in network:\n",
    "     #   print(i)\n",
    "    return network\n",
    "\n",
    "# make a prediction with a network\n",
    "# It returns the index in the network output that has the largest probability. \n",
    "# Assuming that class values have been converted to integers starting at 0. [0,1,2]\n",
    "def predict(network, row):\n",
    "    outputs = forward_propagate(network, row)\n",
    "    return outputs.index(max(outputs))\n",
    "\n",
    "# backpropagation with stochastic gradient descent\n",
    "def back_propagate(train, learning_rate, n_epoch, n_hidden):\n",
    "    n_inputs = len(train[0]) - 1\n",
    "    n_outputs = len(set([row[-1] for row in train]))\n",
    "    network = init_network(n_inputs, n_hidden, n_outputs)\n",
    "    epoch = train_network(network, train, learning_rate, n_epoch, n_outputs)\n",
    "    return epoch\n",
    "    "
   ]
  },
  {
   "cell_type": "code",
   "execution_count": 54,
   "metadata": {},
   "outputs": [],
   "source": [
    "trainingSet=[]\n",
    "testSet=[]\n",
    "results = []\n",
    "f = open('iris.data.txt', \"r\")\n",
    "lines = f.readlines()\n",
    "dataset = list(lines)\n",
    "trainingSet = loadDataset(dataset)"
   ]
  },
  {
   "cell_type": "code",
   "execution_count": 55,
   "metadata": {},
   "outputs": [
    {
     "name": "stdout",
     "output_type": "stream",
     "text": [
      "--------------- lrate=0.100 -----------------\n",
      "Epoch need:146\n"
     ]
    }
   ],
   "source": [
    "# normalize inputs\n",
    "\n",
    "minmax = dataset_minmax(trainingSet)\n",
    "normalize_data(trainingSet, minmax)\n",
    "\n",
    "learning_rate = 0.1\n",
    "n_epoch = 300\n",
    "n_hidden = 4\n",
    "\n",
    "epoch = back_propagate(trainingSet, learning_rate, n_epoch, n_hidden)\n",
    "results.append(epoch)"
   ]
  },
  {
   "cell_type": "code",
   "execution_count": 56,
   "metadata": {},
   "outputs": [
    {
     "name": "stdout",
     "output_type": "stream",
     "text": [
      "--------------- lrate=0.200 -----------------\n",
      "Epoch need:90\n"
     ]
    }
   ],
   "source": [
    "# normalize inputs\n",
    "trainingSet = loadDataset(dataset) #reload data\n",
    "minmax = dataset_minmax(trainingSet)\n",
    "normalize_data(trainingSet, minmax)\n",
    "\n",
    "learning_rate = 0.2\n",
    "n_epoch = 300\n",
    "n_hidden = 4\n",
    "\n",
    "epoch = back_propagate(trainingSet, learning_rate, n_epoch, n_hidden)\n",
    "results.append(epoch)"
   ]
  },
  {
   "cell_type": "code",
   "execution_count": 57,
   "metadata": {},
   "outputs": [
    {
     "name": "stdout",
     "output_type": "stream",
     "text": [
      "--------------- lrate=0.300 -----------------\n",
      "Epoch need:60\n"
     ]
    }
   ],
   "source": [
    "# normalize inputs\n",
    "trainingSet = loadDataset(dataset) #reload data\n",
    "minmax = dataset_minmax(trainingSet)\n",
    "normalize_data(trainingSet, minmax)\n",
    "\n",
    "learning_rate = 0.3\n",
    "n_epoch = 300\n",
    "n_hidden = 4\n",
    "\n",
    "epoch = back_propagate(trainingSet, learning_rate, n_epoch, n_hidden)\n",
    "results.append(epoch)"
   ]
  },
  {
   "cell_type": "code",
   "execution_count": 58,
   "metadata": {},
   "outputs": [
    {
     "name": "stdout",
     "output_type": "stream",
     "text": [
      "--------------- lrate=0.400 -----------------\n",
      "Epoch need:47\n"
     ]
    }
   ],
   "source": [
    "# normalize inputs\n",
    "trainingSet = loadDataset(dataset) #reload data\n",
    "minmax = dataset_minmax(trainingSet)\n",
    "normalize_data(trainingSet, minmax)\n",
    "\n",
    "learning_rate = 0.4\n",
    "n_epoch = 300\n",
    "n_hidden = 4\n",
    "\n",
    "epoch = back_propagate(trainingSet, learning_rate, n_epoch, n_hidden)\n",
    "results.append(epoch)"
   ]
  },
  {
   "cell_type": "code",
   "execution_count": 59,
   "metadata": {},
   "outputs": [
    {
     "name": "stdout",
     "output_type": "stream",
     "text": [
      "--------------- lrate=0.500 -----------------\n",
      "Epoch need:39\n"
     ]
    }
   ],
   "source": [
    "# normalize inputs\n",
    "trainingSet = loadDataset(dataset) #reload data\n",
    "minmax = dataset_minmax(trainingSet)\n",
    "normalize_data(trainingSet, minmax)\n",
    "\n",
    "learning_rate = 0.5\n",
    "n_epoch = 300\n",
    "n_hidden = 4\n",
    "\n",
    "epoch = back_propagate(trainingSet, learning_rate, n_epoch, n_hidden)\n",
    "results.append(epoch)"
   ]
  },
  {
   "cell_type": "code",
   "execution_count": 60,
   "metadata": {},
   "outputs": [
    {
     "data": {
      "image/png": "[encoded data removed]",
      "text/plain": [
       "<Figure size 432x288 with 1 Axes>"
      ]
     },
     "metadata": {
      "needs_background": "light"
     },
     "output_type": "display_data"
    }
   ],
   "source": [
    "plt.plot([0.1, 0.2, 0.3, 0.4, 0.5], results, 'r')\n",
    "plt.xlabel(\"Learning rate\")\n",
    "plt.ylabel(\"Number of epochs\")\n",
    "plt.show()"
   ]
  },
  {
   "cell_type": "code",
   "execution_count": null,
   "metadata": {},
   "outputs": [],
   "source": []
  }
 ],
 "metadata": {
  "kernelspec": {
   "display_name": "Python 3",
   "language": "python",
   "name": "python3"
  },
  "language_info": {
   "codemirror_mode": {
    "name": "ipython",
    "version": 3
   },
   "file_extension": ".py",
   "mimetype": "text/x-python",
   "name": "python",
   "nbconvert_exporter": "python",
   "pygments_lexer": "ipython3",
   "version": "3.7.3"
  }
 },
 "nbformat": 4,
 "nbformat_minor": 2
}
