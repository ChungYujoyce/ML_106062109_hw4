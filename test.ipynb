{
 "cells": [
  {
   "cell_type": "code",
   "execution_count": 9,
   "metadata": {},
   "outputs": [
    {
     "name": "stdout",
     "output_type": "stream",
     "text": [
      "0.053718002313824176\n",
      "0.010848253913919392\n",
      "-0.07421306111179497\n",
      "-0.0991504179390675\n",
      "0.06993655760702373\n",
      "0.06624528992655195\n",
      "0.020496300861263993\n",
      "-0.08256158351079199\n",
      "0.05611236546967795\n",
      "0.0592699511410578\n",
      "-0.07722548581137323\n",
      "0.05759963554975574\n",
      "-0.08729186449777457\n",
      "0.08955381608123955\n",
      "-0.09863629562429455\n",
      "-0.07117001563355549\n",
      "-0.024791026691089946\n",
      "0.009750213887446346\n",
      "-0.03968979112871709\n",
      "0.00502038655571011\n"
     ]
    }
   ],
   "source": [
    "import random\n",
    "for i in range(20):\n",
    "    print((random.random()-0.5)/5.0)"
   ]
  },
  {
   "cell_type": "code",
   "execution_count": null,
   "metadata": {},
   "outputs": [],
   "source": []
  }
 ],
 "metadata": {
  "kernelspec": {
   "display_name": "Python 3",
   "language": "python",
   "name": "python3"
  },
  "language_info": {
   "codemirror_mode": {
    "name": "ipython",
    "version": 3
   },
   "file_extension": ".py",
   "mimetype": "text/x-python",
   "name": "python",
   "nbconvert_exporter": "python",
   "pygments_lexer": "ipython3",
   "version": "3.7.3"
  }
 },
 "nbformat": 4,
 "nbformat_minor": 2
}
